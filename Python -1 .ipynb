{
 "cells": [
  {
   "cell_type": "markdown",
   "metadata": {},
   "source": [
    "# Python Study - 1#\n",
    "### Python? ###\n",
    "*** 컴파일러 언어 개발 과정*** <br/>\n",
    "\n",
    "---\n",
    "\n",
    "** 컴파일러 언어 **\n",
    " > | 소스 프로그램 | -----------> | 목적 프로그램 | -----------------> | 실행 모듈 | <br/>\n",
    "\n",
    "\n",
    "** 인터프리터 언어 **\n",
    " > | 소스 프로그램 | ------------------------------------------------------> | 실행 모듈 | <br/>\n",
    "\n",
    "```python\n",
    "* 소스 프로그램\n",
    "  -  사용자가 프로그램문법을 이용하여 프로그램 작성한 상태 \n",
    "  -  기계가 이해하지 못함\n",
    "  \n",
    "* 목적 프로그램\n",
    "  - 기계가 이해할 수 있는 기계어 상태\n",
    "  \n",
    "* 실행 모듈\n",
    "  - 실행 가능한 상태의 실행파일 형태로 변환\n",
    "```\n",
    "\n",
    "------\n",
    "- **컴파일러(compiler)** – 특정 프로그램 언어로 작성된 소스 프로그램을 처리하여 기계어 또는 컴퓨터가 사용핛 수 있는 코드로 변경시켜주는 특수한 용도의 프로그램.\n",
    "<br/>\n",
    "<br/>\n",
    "- **인터프리터(interpreter)** - 고급언어로 작성된 소스프로그램 명령문들을 한번에 한 줄씩 인어 들여서 실행하는 프로그램\n",
    "<br/>\n",
    "<br/>\n",
    "- **링커** – 여러 단위 프로그램을 유기적으로 연결시켜주는 역할을 하는 도구\n",
    "<br/>\n",
    "<br/>\n",
    "- **디버거(debugger)** – 소스프로그램을 기계어로 번역핛 때 정해진 문법규칙을 따르지 않았을 경우 오류를 발생시킵니다.  또, 문법은 맞지만 프로그램 실행상에 논리적 오류가 있는 경우 어느 부분에 그런 오류가 있는 지 추적할 수 있도록 하는 도구.\n",
    "\n",
    "---\n",
    "### Anaconda ###\n",
    "\n",
    "*Anaconda?*\n",
    "\n",
    "> 컨티눔(Continuum)사가 제작한 파이썬 배포판이 바로 '아나콘다' 입니다. \n",
    "여러가지 배포판 중 가장 후발주자이지만 가장 뛰어난 완성도로 현재는 사실상의 표준(de facto standard) 이 되었습니다.\n",
    "**아나콘다는 패키지 의존성을 관리해주므로 가상환경에 따라 독립적으로 패키지를 관리할 수 있습니다.**<br/>\n",
    "\n",
    " - `가상환경 업데이트 : conda update conda`\n",
    "\n",
    "\n",
    " - `가상환경 버전 : conda version`\n",
    " \n",
    "\n",
    " - `가상환경 목록 : conda env list`\n",
    " \n",
    " \n",
    " -  `가상환경 생성 : conda create -n [환경 이름] python=[버전] [anaconda]`<br/>\n",
    "      **가상 환경 활성화 / 비활성화 : activate [env name] / deactivate**\n",
    "\n",
    "\n",
    " - `가상환경 제거 : conda remove -n [환경 이름] --all(전체 패키지 삭제)`"
   ]
  },
  {
   "cell_type": "markdown",
   "metadata": {},
   "source": []
  },
  {
   "cell_type": "code",
   "execution_count": null,
   "metadata": {
    "collapsed": true
   },
   "outputs": [],
   "source": []
  },
  {
   "cell_type": "code",
   "execution_count": null,
   "metadata": {
    "collapsed": true
   },
   "outputs": [],
   "source": []
  },
  {
   "cell_type": "code",
   "execution_count": null,
   "metadata": {
    "collapsed": true
   },
   "outputs": [],
   "source": []
  },
  {
   "cell_type": "code",
   "execution_count": null,
   "metadata": {
    "collapsed": true
   },
   "outputs": [],
   "source": []
  },
  {
   "cell_type": "code",
   "execution_count": null,
   "metadata": {
    "collapsed": true
   },
   "outputs": [],
   "source": []
  }
 ],
 "metadata": {
  "kernelspec": {
   "display_name": "Python 2",
   "language": "python",
   "name": "python2"
  },
  "language_info": {
   "codemirror_mode": {
    "name": "ipython",
    "version": 2
   },
   "file_extension": ".py",
   "mimetype": "text/x-python",
   "name": "python",
   "nbconvert_exporter": "python",
   "pygments_lexer": "ipython2",
   "version": "2.7.14"
  }
 },
 "nbformat": 4,
 "nbformat_minor": 2
}
